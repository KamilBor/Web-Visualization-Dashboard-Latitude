{
 "cells": [
  {
   "cell_type": "code",
   "execution_count": 1,
   "metadata": {},
   "outputs": [],
   "source": [
    "import pandas as pd\n",
    "import datetime as dt"
   ]
  },
  {
   "cell_type": "code",
   "execution_count": 2,
   "metadata": {},
   "outputs": [],
   "source": [
    "df_full = pd.read_csv('cities.csv', index_col=False)"
   ]
  },
  {
   "cell_type": "code",
   "execution_count": 3,
   "metadata": {},
   "outputs": [
    {
     "data": {
      "text/plain": [
       "['Unnamed: 0',\n",
       " 'base',\n",
       " 'clouds: all',\n",
       " 'cod',\n",
       " 'coord: lat',\n",
       " 'coord: lon',\n",
       " 'dt',\n",
       " 'id',\n",
       " 'main: grnd_level',\n",
       " 'main: humidity',\n",
       " 'main: pressure',\n",
       " 'main: sea_level',\n",
       " 'main: temp',\n",
       " 'main: temp_max',\n",
       " 'main: temp_min',\n",
       " 'name',\n",
       " 'rain: 3h',\n",
       " 'sys: country',\n",
       " 'sys: id',\n",
       " 'sys: message',\n",
       " 'sys: sunrise',\n",
       " 'sys: sunset',\n",
       " 'sys: type',\n",
       " 'visibility',\n",
       " 'weather: description',\n",
       " 'weather: icon',\n",
       " 'weather: id',\n",
       " 'weather: main',\n",
       " 'wind: deg',\n",
       " 'wind: gust',\n",
       " 'wind: speed']"
      ]
     },
     "execution_count": 3,
     "metadata": {},
     "output_type": "execute_result"
    }
   ],
   "source": [
    "list(df_full.columns)"
   ]
  },
  {
   "cell_type": "code",
   "execution_count": null,
   "metadata": {},
   "outputs": [],
   "source": [
    "\n"
   ]
  },
  {
   "cell_type": "code",
   "execution_count": null,
   "metadata": {},
   "outputs": [],
   "source": []
  }
 ],
 "metadata": {
  "kernelspec": {
   "display_name": "Python 3",
   "language": "python",
   "name": "python3"
  },
  "language_info": {
   "codemirror_mode": {
    "name": "ipython",
    "version": 3
   },
   "file_extension": ".py",
   "mimetype": "text/x-python",
   "name": "python",
   "nbconvert_exporter": "python",
   "pygments_lexer": "ipython3",
   "version": "3.7.1"
  }
 },
 "nbformat": 4,
 "nbformat_minor": 2
}
